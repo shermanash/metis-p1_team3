{
 "cells": [
  {
   "cell_type": "markdown",
   "metadata": {},
   "source": [
    "## Step 1\n",
    "Reading MTA turnstile data and creating dictionary"
   ]
  },
  {
   "cell_type": "code",
   "execution_count": 57,
   "metadata": {
    "collapsed": false,
    "scrolled": true
   },
   "outputs": [],
   "source": [
    "import pandas as pd\n",
    "import datetime\n",
    "import pprint"
   ]
  },
  {
   "cell_type": "code",
   "execution_count": 58,
   "metadata": {
    "collapsed": false
   },
   "outputs": [],
   "source": [
    "mta = pd.read_csv(\"turnstile_160109.txt\")\n",
    "\n",
    "## Shorten data to 5000 rows for quicker testing\n",
    "mta = mta.head(5000)\n",
    "\n",
    "#print(mta.head(10))"
   ]
  },
  {
   "cell_type": "code",
   "execution_count": 92,
   "metadata": {
    "collapsed": false
   },
   "outputs": [],
   "source": [
    "## Create key and initiate dictionary\n",
    "mta['key'] = zip(mta['C/A'], mta['UNIT'], mta['SCP'], mta['STATION'])\n",
    "\n",
    "#pprint.pprint(mta)\n",
    "#mta_dict = {}"
   ]
  },
  {
   "cell_type": "code",
   "execution_count": 60,
   "metadata": {
    "collapsed": false
   },
   "outputs": [],
   "source": [
    "## Loop each row in mta list and add its key and value into dictionary mta_dict\n",
    "for index, row in mta.iterrows():\n",
    "    value = row[4:11].tolist()\n",
    "    key = row['key']\n",
    "    #print key, value\n",
    "    \n",
    "    if key in mta_dict:\n",
    "        mta_dict[key].append(value)\n",
    "        \n",
    "    else:\n",
    "        mta_dict[key] = [value]\n",
    "        \n",
    "#pprint.pprint(mta_dict, width=100)"
   ]
  },
  {
   "cell_type": "markdown",
   "metadata": {},
   "source": [
    "## Step 2 \n",
    "Create datetime series in dictionary"
   ]
  },
  {
   "cell_type": "code",
   "execution_count": 61,
   "metadata": {
    "collapsed": false
   },
   "outputs": [],
   "source": [
    "## Create new datetime column\n",
    "mta['datetime'] = pd.to_datetime(mta.DATE + mta.TIME, format='%m/%d/%Y%H:%M:%S')\n",
    "#mta"
   ]
  },
  {
   "cell_type": "code",
   "execution_count": 91,
   "metadata": {
    "collapsed": false
   },
   "outputs": [],
   "source": [
    "datetime_dict = {}\n",
    "\n",
    "## Loop through each....\n",
    "for index, row in mta.iterrows():\n",
    "    value = row['datetime'], row['ENTRIES']\n",
    "    key = row['key']\n",
    "    #print key, value\n",
    "    \n",
    "    if key in datetime_dict:\n",
    "        datetime_dict[key].append(value)\n",
    "        \n",
    "    else:\n",
    "        datetime_dict[key] = [value]\n",
    "        \n",
    "#pprint.pprint(datetime_dict)"
   ]
  },
  {
   "cell_type": "markdown",
   "metadata": {},
   "source": [
    "## Step 3 \n",
    "Count daily entries"
   ]
  },
  {
   "cell_type": "code",
   "execution_count": 88,
   "metadata": {
    "collapsed": false
   },
   "outputs": [
    {
     "name": "stdout",
     "output_type": "stream",
     "text": [
      "[(datetime.date(2016, 1, 4), 1758),\n",
      " (datetime.date(2016, 1, 5), 1641),\n",
      " (datetime.date(2016, 1, 8), 1853),\n",
      " (datetime.date(2016, 1, 2), 1099),\n",
      " (datetime.date(2016, 1, 3), 758),\n",
      " (datetime.date(2016, 1, 6), 1784),\n",
      " (datetime.date(2016, 1, 7), 1838)]\n"
     ]
    }
   ],
   "source": [
    "## count_day function takes a list of DateTime objects with the turnstile counter and calculates each day's entries\n",
    "## and returns a list of [(date, count)]\n",
    "\n",
    "def count_day(my_list):\n",
    "    ## Get unique values of dates\n",
    "    dates = [row[0].date() for row in my_list]\n",
    "    dates = set(dates)\n",
    "    #print dates\n",
    "    \n",
    "    result = []\n",
    "    for date in dates:\n",
    "        \n",
    "        tomorrows_date = date + datetime.timedelta(days=1)\n",
    "        \n",
    "        todays_entries = [x[1] for x in my_list if x[0].date() == date]\n",
    "        \n",
    "        if tomorrows_date in dates:\n",
    "            tomorrows_entries = [x[1] for x in my_list if x[0].date() == tomorrows_date]\n",
    "            result.append((date, min(tomorrows_entries)-min(todays_entries)))\n",
    "        else:\n",
    "            result.append((date, max(todays_entries)-min(todays_entries)))\n",
    "        \n",
    "        \n",
    "        #print tomorrows_entries\n",
    "        \n",
    "        #print nextdays_entries\n",
    "        #result.append((date, max(entries)-min(entries)))\n",
    "    \n",
    "    #print result\n",
    "    return result\n",
    "    \n",
    "    \n",
    "    \n",
    "pprint.pprint(count_day(datetime_dict[('A002', 'R051', '02-00-00', '59 ST')]))\n"
   ]
  },
  {
   "cell_type": "code",
   "execution_count": 64,
   "metadata": {
    "collapsed": false
   },
   "outputs": [],
   "source": [
    "count_dict = {key:count_day(datetime_dict[key]) for key in datetime_dict}\n",
    "#pprint.pprint(count_dict, width = 100)"
   ]
  },
  {
   "cell_type": "markdown",
   "metadata": {},
   "source": [
    "## Part 4\n",
    "Plotting 1 turnstile at a time"
   ]
  },
  {
   "cell_type": "code",
   "execution_count": 90,
   "metadata": {
    "collapsed": false
   },
   "outputs": [
    {
     "data": {
      "image/png": "[encoded data removed]",
      "text/plain": [
       "<matplotlib.figure.Figure at 0x114a17cd0>"
      ]
     },
     "metadata": {},
     "output_type": "display_data"
    }
   ],
   "source": [
    "%matplotlib inline\n",
    "import matplotlib.pyplot as plt\n",
    "\n",
    "## This function takes a dictionary and the turnstile's unique key and plots a simple time series plot\n",
    "def plot_turnstile(dictionary, turnstile_key):\n",
    "    turnstile_data = sorted(dictionary[turnstile_key])\n",
    "    \n",
    "    dates = [x[0] for x in turnstile_data]\n",
    "    counts = [x[1] for x in turnstile_data]\n",
    "\n",
    "    plt.figure(figsize=(10,5))\n",
    "    plt.plot(dates, counts)\n",
    "    \n",
    "# Demonstrating one example\n",
    "plot_turnstile(count_dict, ('A002', 'R051', '02-00-00', '59 ST'))\n",
    "\n"
   ]
  },
  {
   "cell_type": "markdown",
   "metadata": {
    "collapsed": true
   },
   "source": [
    "## Part 5\n",
    "Combining all turnstiles for a station"
   ]
  },
  {
   "cell_type": "code",
   "execution_count": null,
   "metadata": {
    "collapsed": true
   },
   "outputs": [],
   "source": [
    "## Using station ('A002', 'R051', '02-00-00', '59 ST')"
   ]
  }
 ],
 "metadata": {
  "celltoolbar": "Raw Cell Format",
  "kernelspec": {
   "display_name": "Python 2",
   "language": "python",
   "name": "python2"
  },
  "language_info": {
   "codemirror_mode": {
    "name": "ipython",
    "version": 2
   },
   "file_extension": ".py",
   "mimetype": "text/x-python",
   "name": "python",
   "nbconvert_exporter": "python",
   "pygments_lexer": "ipython2",
   "version": "2.7.10"
  }
 },
 "nbformat": 4,
 "nbformat_minor": 0
}
