{
 "cells": [
  {
   "cell_type": "markdown",
   "metadata": {
    "collapsed": true
   },
   "source": [
    "# Challenge Set 1\n",
    "\n",
    "Topic:  Explore MTA turnstile data\n",
    "\n",
    "Date:   01/25/2016\n",
    "\n",
    "Name:   Daniel Yawitz\n"
   ]
  },
  {
   "cell_type": "code",
   "execution_count": null,
   "metadata": {
    "collapsed": true
   },
   "outputs": [],
   "source": [
    "import os, csv, re\n",
    "f = 'turnstile_160109.txt'\n",
    "#f = \"http://web.mta.info/developers/data/nyct/turnstile/turnstile_160109.txt\""
   ]
  },
  {
   "cell_type": "code",
   "execution_count": null,
   "metadata": {
    "collapsed": true
   },
   "outputs": [],
   "source": [
    "#Read in the data:\n",
    "def read_data(file):\n",
    "    data = open(file)\n",
    "    d = []\n",
    "    csv_data = csv.reader(data)\n",
    "    for row in csv_data:\n",
    "        #strip extra spaces from 'EXITS'\n",
    "        row[10] = row[10].rstrip()\n",
    "        d.append(row)\n",
    "    return d\n",
    "    data.close()\n",
    "\n",
    "d = read_data(f)\n",
    "#pop out the headers\n",
    "d.pop(0)\n",
    "#take a small sample of the data\n",
    "d = d[:1000]\n",
    "\n",
    "'''format of 'd' is a list of lists, for all 11 variables'''"
   ]
  },
  {
   "cell_type": "markdown",
   "metadata": {},
   "source": [
    "# Challenge 1\n",
    "Make a dictionary so that each turnstile is a key and its 4 hour measurements are values"
   ]
  },
  {
   "cell_type": "code",
   "execution_count": null,
   "metadata": {
    "collapsed": false
   },
   "outputs": [],
   "source": [
    "def turn_dict(d):\n",
    "    '''turns the raw data into a dict of the form {turnstile:[values]}\n",
    "    \n",
    "    One example value:\n",
    "    {('A006', 'R079', '00-03-02', '5 AV/59 ST'):\n",
    "    [['NQR',\n",
    "   'BMT',\n",
    "   '01/02/2016',\n",
    "   '01:00:00',\n",
    "   'REGULAR',\n",
    "   '0013206367',\n",
    "   '0013861091'],\n",
    "   \n",
    "  ['NQR',\n",
    "   'BMT',\n",
    "   '01/02/2016',\n",
    "   '05:00:00',\n",
    "   'REGULAR',\n",
    "   '0013206371',\n",
    "   '0013861092']}\n",
    "    \n",
    "    '''\n",
    "    #create empty dict\n",
    "    mta_dict = {}\n",
    "    #pop out the headers\n",
    "#     if d[0] == ['C/A', 'UNIT', 'SCP', 'STATION', 'LINENAME',\n",
    "#                        'DIVISION', 'DATE', 'TIME', 'DESC', 'ENTRIES',\n",
    "#                        'EXITS']:\n",
    "#         d.pop(0)\n",
    "    \n",
    "    \n",
    "    for row in d:\n",
    "        \n",
    "        #key is the first 4 columns that ID the turnstile\n",
    "        key = tuple(row[0:4])\n",
    "        #values are the rest of the data\n",
    "        value = row[4:11]\n",
    "        \n",
    "        #This line does the same thing as the if/else statement below\n",
    "        mta_dict.setdefault(key, []).append(value) \n",
    "        \n",
    "        #if key in mta_dict:\n",
    "        #    mta_dict[key].append(value)\n",
    "        #else:\n",
    "        #    mta_dict[key] = [value]\n",
    "            \n",
    "       \n",
    "        \n",
    "    return mta_dict\n",
    "\n",
    "turnstile_dict = turn_dict(d)"
   ]
  },
  {
   "cell_type": "markdown",
   "metadata": {},
   "source": [
    "turnstile_dict is a solution to challenge 1"
   ]
  },
  {
   "cell_type": "markdown",
   "metadata": {
    "collapsed": false
   },
   "source": [
    "# Challenge 2\n",
    "Create a new dictionary. The key is the same, but the values are a list of datetime objects and entry values"
   ]
  },
  {
   "cell_type": "code",
   "execution_count": null,
   "metadata": {
    "collapsed": true
   },
   "outputs": [],
   "source": [
    "import datetime\n",
    "import dateutil.parser\n",
    "\n",
    "def get_datetime_cumulative(d):\n",
    "    ''' takes in the raw data and exports a dict of the form {turnstile_key: [[datetime_object, counts]]}\n",
    "     {('A006', 'R079', '00-03-02', '5 AV/59 ST'):\n",
    "        [[datetime.datetime(2016, 1, 2, 1, 0), '0013206367'],\n",
    "         [datetime.datetime(2016, 1, 2, 5, 0), '0013206371']]}\n",
    "    \n",
    "    '''\n",
    "    datetime_cumulative = {}\n",
    "    \n",
    "    #pop out the headers\n",
    "    if d[0] == ['C/A', 'UNIT', 'SCP', 'STATION', 'LINENAME',\n",
    "                       'DIVISION', 'DATE', 'TIME', 'DESC', 'ENTRIES',\n",
    "                       'EXITS']:\n",
    "        d.pop(0)\n",
    "    \n",
    "    for row in d:\n",
    "        #get datetime object. Row 6 and 7 of 'd' are '2013-12-02' and '15:00:00'\n",
    "        dt_str = row[6] + ' ' + row[7]\n",
    "        dt = dateutil.parser.parse(dt_str)\n",
    "        #row 9 is turnstile entries\n",
    "        entries = row[9]\n",
    "\n",
    "        key = tuple(row[0:4])\n",
    "        values = [dt, entries]\n",
    "        \n",
    "        #This line does the same thing as the if/else statement below\n",
    "        datetime_cumulative.setdefault(key, []).append(values)\n",
    "\n",
    "        #if key in datetime_cumulative:\n",
    "        #    datetime_cumulative[key].append(values)\n",
    "        #else:\n",
    "        #    datetime_cumulative[key] = [values]\n",
    "        \n",
    "        \n",
    "    return datetime_cumulative\n",
    "\n",
    "datetime_cumulative = get_datetime_cumulative(d)"
   ]
  },
  {
   "cell_type": "code",
   "execution_count": null,
   "metadata": {
    "collapsed": true
   },
   "outputs": [],
   "source": []
  },
  {
   "cell_type": "markdown",
   "metadata": {},
   "source": [
    "datetime_cumulative is a solution to challenge 2"
   ]
  },
  {
   "cell_type": "markdown",
   "metadata": {},
   "source": [
    "# Challenge 3\n",
    "Use the same keys, but the values should be the total number of passengers for each day per turnstile"
   ]
  },
  {
   "cell_type": "code",
   "execution_count": null,
   "metadata": {
    "collapsed": true
   },
   "outputs": [],
   "source": [
    "def count_day(my_list):\n",
    "    #Takes in a list of lists (the values for one turnstile)\n",
    "    #datetime_cumulative[key]\n",
    "    #Output is a list of lists that gets the counts for one turnstile's day\n",
    "    \n",
    "    ''' [[datetime.datetime(2016, 1, 2, 1, 0), '0013206367'],\n",
    "         [datetime.datetime(2016, 1, 2, 5, 0), '0013206371']]\n",
    "         \n",
    "         -->\n",
    "         \n",
    "         [[dateime.datetime(2016, 1,2), 2]]\n",
    "        \n",
    "         \n",
    "         '''\n",
    "    \n",
    "    ## Get unique values of dates\n",
    "    dates = [row[0].date() for row in my_list]\n",
    "    #make it a set to eliminate duplicates\n",
    "    dates = set(dates)\n",
    "    dates = sorted(list(dates))\n",
    "\n",
    "    result = list()\n",
    "\n",
    "    for date in dates:\n",
    "        \n",
    "        #get tomorrows date. Add one 'day' to today\n",
    "        tomorrows_date = date + datetime.timedelta(days=1)\n",
    "        \n",
    "        #for every entry with today's date, add the count to a list\n",
    "        todays_entries = [int(x[1]) for x in my_list if x[0].date() == date]\n",
    "        \n",
    "         todays_entries = [int(x[2]) for x in rows if x[0].date() == date]\n",
    "        #\n",
    "        if tomorrows_date in dates:\n",
    "            #if tomorrow's date is in dates, compare the start of tomorrow to the end of today\n",
    "            tomorrows_entries = [int(x[1]) for x in my_list if x[0].date() == tomorrows_date]\n",
    "            delta = min(tomorrows_entries)- min(todays_entries)\n",
    "            \n",
    "        else:\n",
    "            #otherwise, use the change in today\n",
    "            delta = max(todays_entries) - min(todays_entries)\n",
    "        \n",
    "        result.append((date, delta))\n",
    "    return result"
   ]
  },
  {
   "cell_type": "code",
   "execution_count": null,
   "metadata": {
    "collapsed": true
   },
   "outputs": [],
   "source": [
    "turnstile_counts = {key:count_day(datetime_cumulative[key]) for key in datetime_cumulative}\n",
    "''' one {key:value} pair in turnstile_counts looks like: \n",
    "\n",
    "{('A002', 'R051', '02-03-06', '59 ST'),\n",
    " [(datetime.date(2016, 1, 4), 2278),\n",
    "  (datetime.date(2016, 1, 5), 2326),\n",
    "  (datetime.date(2016, 1, 8), 2325),\n",
    "  (datetime.date(2016, 1, 2), 1159),\n",
    "  (datetime.date(2016, 1, 3), 915),\n",
    "  (datetime.date(2016, 1, 6), 2474),\n",
    "  (datetime.date(2016, 1, 7), 2553)]}\n",
    "\n",
    "'''"
   ]
  },
  {
   "cell_type": "markdown",
   "metadata": {},
   "source": [
    "# Challenge 4\n",
    "\n",
    "Plot the daily time series for a turnstile."
   ]
  },
  {
   "cell_type": "code",
   "execution_count": null,
   "metadata": {
    "collapsed": true
   },
   "outputs": [],
   "source": [
    "%matplotlib inline\n",
    "import matplotlib.pyplot as plt"
   ]
  },
  {
   "cell_type": "code",
   "execution_count": null,
   "metadata": {
    "collapsed": true
   },
   "outputs": [],
   "source": [
    "def plot_turnstile(dictionary, turnstile_key):\n",
    "    turnstile_data = sorted(dictionary[turnstile_key])\n",
    "\n",
    "    dates = [x[0] for x in turnstile_data]\n",
    "    counts = [x[1] for x in turnstile_data]\n",
    "\n",
    "    plt.figure(figsize=(10,3))\n",
    "    plt.plot(dates,counts)"
   ]
  },
  {
   "cell_type": "code",
   "execution_count": null,
   "metadata": {
    "collapsed": true
   },
   "outputs": [],
   "source": [
    "key = ('A035', 'R170', '00-00-04', '14 ST-UNION SQ')\n",
    "plot_turnstile(turnstile_counts, key)"
   ]
  },
  {
   "cell_type": "markdown",
   "metadata": {},
   "source": [
    "# Challenge 5 & 6\n",
    "This is just the code and functions. Scroll down to see the solutions. "
   ]
  },
  {
   "cell_type": "code",
   "execution_count": null,
   "metadata": {
    "collapsed": true
   },
   "outputs": [],
   "source": [
    "def tcounts_to_dailydata(tcounts):\n",
    "    ''' dict --> list of lists\n",
    "\n",
    "        restructures turnstile_counts into a list of lists that looks like the original data:\n",
    "\n",
    "        ['A002', 'R051', '02-03-06', '59 ST', datetime.date(2016, 1, 4), 2278]\n",
    "    '''\n",
    "    dailydata = []\n",
    "\n",
    "    #get a list of the keys, so you can iterate over something \n",
    "    turnstiles = tcounts.keys()\n",
    "\n",
    "    for t in turnstiles:\n",
    "        for datecounts in tcounts[t]:\n",
    "            dailydata += [[t[0], t[1], t[2], t[3], datecounts[0], datecounts[1]]]\n",
    "\n",
    "    return dailydata\n",
    "\n",
    "dailydata = tcounts_to_dailydata(turnstile_counts)"
   ]
  },
  {
   "cell_type": "code",
   "execution_count": null,
   "metadata": {
    "collapsed": true
   },
   "outputs": [],
   "source": [
    "def dailydata_to_ac_stationdict(dailydata):\n",
    "    ''' dict --> dict\n",
    "\n",
    "    restructures turnstile_counts so that the key is station info (including AC), and the value includes the turnstile ID:\n",
    "\n",
    "    {('A007', 'R079', '5 AV/59 ST'): [['01-05-01', datetime.date(2016, 1, 4), 0],\n",
    "      ['01-05-01', datetime.date(2016, 1, 5), 0],\n",
    "      ['01-05-01', datetime.date(2016, 1, 8), 0],\n",
    "      ['01-05-01', datetime.date(2016, 1, 2), 0],\n",
    "      ['01-05-01', datetime.date(2016, 1, 3), 0],\n",
    "      ['01-05-01', datetime.date(2016, 1, 6), 0],\n",
    "      ['01-06-01', datetime.date(2016, 1, 4), 1413],\n",
    "      ['01-06-01', datetime.date(2016, 1, 5), 1204],\n",
    "      ['01-06-01', datetime.date(2016, 1, 2), 1135],\n",
    "      ['01-06-01', datetime.date(2016, 1, 3), 847],\n",
    "      ['01-06-01', datetime.date(2016, 1, 6), 1448],\n",
    "      ['01-06-01', datetime.date(2016, 1, 7), 172]] }\n",
    "\n",
    "    '''\n",
    "    stationdict = {}\n",
    "    \n",
    "    for i in range(len(dailydata)-1):\n",
    "        ca = dailydata[i][0]\n",
    "        unit = dailydata[i][1]\n",
    "        scp = dailydata[i][2]\n",
    "        station = dailydata[i][3]\n",
    "        day = dailydata[i][4]\n",
    "        count = dailydata[i][5]\n",
    "\n",
    "        key = (ca, unit, station)\n",
    "        value = [scp, day, count]\n",
    "\n",
    "        stationdict.setdefault(key, []).append(value) \n",
    "\n",
    "    # stationdict = {tuple(list(turnstile[0:2])+[turnstile[3]]): \n",
    "    #                                  [[turnstile[2],\n",
    "    #                                     datecounts[i][0],\n",
    "    #                                     datecounts[i][1]] \n",
    "    #                                 for i in range(len(datecounts)-1)]\n",
    "    #                 for turnstile, datecounts in tcounts.iteritems()}\n",
    "\n",
    "    return stationdict\n",
    "\n",
    "ac_stationdict = dailydata_to_ac_stationdict(dailydata)"
   ]
  },
  {
   "cell_type": "code",
   "execution_count": null,
   "metadata": {
    "collapsed": true
   },
   "outputs": [],
   "source": [
    "def dailydata_to_stationdict(dailydata):\n",
    "    ''' dict --> dict\n",
    "\n",
    "    restructures turnstile_counts so that the key is station info, and the value includes the turnstile ID:\n",
    "\n",
    "    {('5 AV/59 ST'): [['01-05-01', datetime.date(2016, 1, 4), 0],\n",
    "      ['01-05-01', datetime.date(2016, 1, 5), 0],\n",
    "      ['01-05-01', datetime.date(2016, 1, 8), 0],\n",
    "      ['01-05-01', datetime.date(2016, 1, 2), 0],\n",
    "      ['01-05-01', datetime.date(2016, 1, 3), 0],\n",
    "      ['01-05-01', datetime.date(2016, 1, 6), 0],\n",
    "      ['01-06-01', datetime.date(2016, 1, 4), 1413],\n",
    "      ['01-06-01', datetime.date(2016, 1, 5), 1204],\n",
    "      ['01-06-01', datetime.date(2016, 1, 2), 1135],\n",
    "      ['01-06-01', datetime.date(2016, 1, 3), 847],\n",
    "      ['01-06-01', datetime.date(2016, 1, 6), 1448],\n",
    "      ['01-06-01', datetime.date(2016, 1, 7), 172]] }\n",
    "\n",
    "    '''\n",
    "    stationdict = {}\n",
    "    \n",
    "    for i in range(len(dailydata)-1):\n",
    "        ca = dailydata[i][0]\n",
    "        unit = dailydata[i][1]\n",
    "        scp = dailydata[i][2]\n",
    "        station = dailydata[i][3]\n",
    "        day = dailydata[i][4]\n",
    "        count = dailydata[i][5]\n",
    "\n",
    "        key = (station)\n",
    "        value = [scp, day, count]\n",
    "\n",
    "        stationdict.setdefault(key, []).append(value) \n",
    "\n",
    "    # stationdict = {tuple(list(turnstile[0:2])+[turnstile[3]]): \n",
    "    #                                  [[turnstile[2],\n",
    "    #                                     datecounts[i][0],\n",
    "    #                                     datecounts[i][1]] \n",
    "    #                                 for i in range(len(datecounts)-1)]\n",
    "    #                 for turnstile, datecounts in tcounts.iteritems()}\n",
    "\n",
    "    return stationdict\n",
    "\n",
    "stationdict = dailydata_to_stationdict(dailydata)"
   ]
  },
  {
   "cell_type": "code",
   "execution_count": null,
   "metadata": {
    "collapsed": true
   },
   "outputs": [],
   "source": [
    "def get_stationcounts(stationdict):\n",
    "    ''' Takes the stationdict and adds up the daily totals for all those turnstiles.\n",
    "    \n",
    "    {('A047', 'R087', 'CITY HALL'):\n",
    "    [[datetime.date(2016, 1, 4), 1020],\n",
    "    [datetime.date(2016, 1, 5), 815],\n",
    "    [datetime.date(2016, 1, 6), 1030]]}\n",
    "    \n",
    "    '''\n",
    "    stations = stationdict.keys()\n",
    "    \n",
    "    stationcounts = {}\n",
    "    \n",
    "    for key in stations:\n",
    "        rows = stationdict[key]\n",
    "        \n",
    "        dates = [row[1] for row in rows]\n",
    "        dates = set(dates)\n",
    "        dates = sorted(list(dates))\n",
    "        \n",
    "        day_sums = list()\n",
    "\n",
    "        for date in dates:\n",
    "            todays_entries = [int(x[2]) for x in rows if x[1] == date]\n",
    "            daily_sum = sum(todays_entries)\n",
    "            day_sums.append([date, daily_sum])\n",
    "        stationcounts.setdefault(key,[]).append(day_sums)\n",
    "    \n",
    "    return stationcounts\n",
    "\n",
    "stationcounts = get_stationcounts(stationdict)"
   ]
  },
  {
   "cell_type": "code",
   "execution_count": null,
   "metadata": {
    "collapsed": true
   },
   "outputs": [],
   "source": []
  },
  {
   "cell_type": "markdown",
   "metadata": {},
   "source": [
    "# Challenge 5\n",
    "-combine the numbers together -- for each ControlArea/UNIT/STATION combo, for each day, add the counts from each turnstile belonging to that combo\n",
    "-make this a new dict"
   ]
  },
  {
   "cell_type": "code",
   "execution_count": null,
   "metadata": {
    "collapsed": true
   },
   "outputs": [],
   "source": [
    "challenge5 = get_stationcounts(ac_stationdict)\n",
    "\n",
    "print challenge5.items()[0]"
   ]
  },
  {
   "cell_type": "markdown",
   "metadata": {},
   "source": [
    "# Challenge 6\n",
    "Create a dictionary for stations and their daily entries"
   ]
  },
  {
   "cell_type": "code",
   "execution_count": null,
   "metadata": {
    "collapsed": true
   },
   "outputs": [],
   "source": [
    "stationcounts = get_stationcounts(stationdict)\n",
    "print stationcounts.items()[1:2]"
   ]
  }
 ],
 "metadata": {
  "kernelspec": {
   "display_name": "Python 2",
   "language": "python",
   "name": "python2"
  },
  "language_info": {
   "codemirror_mode": {
    "name": "ipython",
    "version": 3
   },
   "file_extension": ".py",
   "mimetype": "text/x-python",
   "name": "python",
   "nbconvert_exporter": "python",
   "pygments_lexer": "ipython3",
   "version": "3.5.1"
  }
 },
 "nbformat": 4,
 "nbformat_minor": 0
}
