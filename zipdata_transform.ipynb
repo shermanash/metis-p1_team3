{
 "cells": [
  {
   "cell_type": "code",
   "execution_count": 1,
   "metadata": {
    "collapsed": true
   },
   "outputs": [],
   "source": [
    "import pandas as pd"
   ]
  },
  {
   "cell_type": "code",
   "execution_count": 2,
   "metadata": {
    "collapsed": false
   },
   "outputs": [],
   "source": [
    "df = pd.read_csv(\"donations_byzip.csv\")\n"
   ]
  },
  {
   "cell_type": "code",
   "execution_count": 62,
   "metadata": {
    "collapsed": false
   },
   "outputs": [
    {
     "data": {
      "text/html": [
       "<div>\n",
       "<table border=\"1\" class=\"dataframe\">\n",
       "  <thead>\n",
       "    <tr style=\"text-align: right;\">\n",
       "      <th></th>\n",
       "      <th>ZipCode</th>\n",
       "      <th>GivingRatio</th>\n",
       "      <th>45_64</th>\n",
       "      <th>65_Plus</th>\n",
       "      <th>TotalContributions</th>\n",
       "      <th>TotalAGI</th>\n",
       "      <th>MedianContribution</th>\n",
       "      <th>MedianAGI</th>\n",
       "      <th>Population</th>\n",
       "      <th>Under18</th>\n",
       "      <th>18_24</th>\n",
       "      <th>25_44</th>\n",
       "    </tr>\n",
       "  </thead>\n",
       "  <tbody>\n",
       "    <tr>\n",
       "      <th>0</th>\n",
       "      <td>10026</td>\n",
       "      <td>2.22</td>\n",
       "      <td>23.6</td>\n",
       "      <td>8.2</td>\n",
       "      <td>14253000</td>\n",
       "      <td>643001000</td>\n",
       "      <td>2791</td>\n",
       "      <td>80630</td>\n",
       "      <td>36797</td>\n",
       "      <td>21.5</td>\n",
       "      <td>11.6</td>\n",
       "      <td>35.1</td>\n",
       "    </tr>\n",
       "  </tbody>\n",
       "</table>\n",
       "</div>"
      ],
      "text/plain": [
       "   ZipCode  GivingRatio  45_64  65_Plus  TotalContributions   TotalAGI  \\\n",
       "0    10026         2.22   23.6      8.2            14253000  643001000   \n",
       "\n",
       "   MedianContribution  MedianAGI  Population  Under18  18_24  25_44  \n",
       "0                2791      80630       36797     21.5   11.6   35.1  "
      ]
     },
     "execution_count": 62,
     "metadata": {},
     "output_type": "execute_result"
    }
   ],
   "source": [
    "df.head(1)"
   ]
  },
  {
   "cell_type": "code",
   "execution_count": 6,
   "metadata": {
    "collapsed": true
   },
   "outputs": [],
   "source": [
    "\"\"\"converts column to float\n",
    "    removes ($ , %)\n",
    "    returns column\n",
    "\"\"\"\n",
    "def float_convert(column):\n",
    "    return column.replace( '[\\$,\\%)]','', regex=True ).astype(float)\n",
    "\n",
    "# divide by max\n",
    "def scale(column):\n",
    "    floated = float_convert(column)\n",
    "    return floated / max(floated)\n"
   ]
  },
  {
   "cell_type": "code",
   "execution_count": 11,
   "metadata": {
    "collapsed": false
   },
   "outputs": [],
   "source": [
    "\n",
    "# drop index and url columns\n",
    "#df = df.drop(['index'], axis=1)\n",
    "#df = df.drop(['url'], axis=1)\n",
    "\n",
    "# convert all remaining columns to float\n",
    "df = df.apply(float_convert)\n"
   ]
  },
  {
   "cell_type": "code",
   "execution_count": null,
   "metadata": {
    "collapsed": true
   },
   "outputs": [],
   "source": [
    "\"\"\"\n",
    "NAICS codes:\n",
    "54 - Professional, Scientific, Technical Services\n",
    "    The establishments in this sector specialize according to expertise \n",
    "and provide these services to clients\n",
    "in a variety of industries and, in some cases, to households. Activities\n",
    "performed include: legal advice and representation; accounting, \n",
    "bookkeeping, and payroll services; architectural, engineering, \n",
    "and specialized design services; computer services; consulting services;\n",
    "research services; advertising services; photographic services;\n",
    "translation and interpretation services; veterinary services; \n",
    "and other professional, scientific, and technical services.\n",
    "\n",
    "51 - Information\n",
    "    The Information sector comprises establishments engaged in the following\n",
    "processes: (a) producing and distributing information and cultural\n",
    "products, (b) providing the means to transmit or distribute these products\n",
    "as well as data or communications, and (c) processing data.\n",
    "\n",
    "52 - Finance and Insurance\n",
    "    The Finance and Insurance sector comprises establishments primarily\n",
    "engaged in financial transactions (transactions involving the creation,\n",
    "liquidation, or change in ownership of financial assets) and/or in\n",
    "facilitating financial transactions.\n",
    "\n",
    "more information: http://www.naics.com/search/\n",
    "\"\"\""
   ]
  },
  {
   "cell_type": "code",
   "execution_count": 12,
   "metadata": {
    "collapsed": false
   },
   "outputs": [],
   "source": [
    "census = pd.read_csv(\"zbp13detail.txt\")"
   ]
  },
  {
   "cell_type": "code",
   "execution_count": 16,
   "metadata": {
    "collapsed": false
   },
   "outputs": [
    {
     "data": {
      "text/html": [
       "<div>\n",
       "<table border=\"1\" class=\"dataframe\">\n",
       "  <thead>\n",
       "    <tr style=\"text-align: right;\">\n",
       "      <th></th>\n",
       "      <th>zip</th>\n",
       "      <th>naics</th>\n",
       "      <th>est</th>\n",
       "      <th>n1_4</th>\n",
       "      <th>n5_9</th>\n",
       "      <th>n10_19</th>\n",
       "      <th>n20_49</th>\n",
       "      <th>n50_99</th>\n",
       "      <th>n100_249</th>\n",
       "      <th>n250_499</th>\n",
       "      <th>n500_999</th>\n",
       "      <th>n1000</th>\n",
       "    </tr>\n",
       "  </thead>\n",
       "  <tbody>\n",
       "    <tr>\n",
       "      <th>0</th>\n",
       "      <td>501</td>\n",
       "      <td>------</td>\n",
       "      <td>2</td>\n",
       "      <td>2</td>\n",
       "      <td>0</td>\n",
       "      <td>0</td>\n",
       "      <td>0</td>\n",
       "      <td>0</td>\n",
       "      <td>0</td>\n",
       "      <td>0</td>\n",
       "      <td>0</td>\n",
       "      <td>0</td>\n",
       "    </tr>\n",
       "  </tbody>\n",
       "</table>\n",
       "</div>"
      ],
      "text/plain": [
       "   zip   naics  est  n1_4  n5_9  n10_19  n20_49  n50_99  n100_249  n250_499  \\\n",
       "0  501  ------    2     2     0       0       0       0         0         0   \n",
       "\n",
       "   n500_999  n1000  \n",
       "0         0      0  "
      ]
     },
     "execution_count": 16,
     "metadata": {},
     "output_type": "execute_result"
    }
   ],
   "source": [
    "#totals.loc[totals['zip'] == 11206]\n",
    "census.head(1)\n",
    "# zip: zipcode\n",
    "# naics: industry code\n",
    "# est: total number of establishments in zip\n",
    "# nX_Y: number of establishments with between X and Y employees"
   ]
  },
  {
   "cell_type": "code",
   "execution_count": 17,
   "metadata": {
    "collapsed": true
   },
   "outputs": [],
   "source": [
    "totals = census.loc[census['naics'] == '------']\n",
    "tech = (census.loc[census['naics'] == '54----'] )\n",
    "info = (census.loc[census['naics'] == '51----'] )\n",
    "finance = (census.loc[census['naics'] == '52----'] )"
   ]
  },
  {
   "cell_type": "code",
   "execution_count": 18,
   "metadata": {
    "collapsed": false,
    "scrolled": true
   },
   "outputs": [],
   "source": [
    "# get total number of establishments\n",
    "# returns float containing number of establishments in specified df at zip\n",
    "def get_num_est(df, zipcode):\n",
    "    row = df.loc[df['zip'] == zipcode]\n",
    "    return float(row['est'])\n",
    "\n",
    "\n",
    "def get_tech_ratio(zipcode):\n",
    "    tech_est = get_num_est(tech, zipcode)\n",
    "    info_est = get_num_est(info, zipcode)\n",
    "    finance_est = get_num_est(finance, zipcode)\n",
    "    industry_totals = tech_est + info_est + finance_est\n",
    "    \n",
    "    total_est = get_num_est(totals, zipcode)\n",
    "    return float(industry_totals / total_est)\n",
    "\n",
    "# \n",
    "#def get_ratio(zipcode, idlist, idtotal):\n",
    "    \n",
    "\n"
   ]
  },
  {
   "cell_type": "code",
   "execution_count": 21,
   "metadata": {
    "collapsed": false
   },
   "outputs": [],
   "source": [
    "# import csv containing station key with addresses\n",
    "zipdata = pd.read_csv(\"zipcode_data_clean.csv\")"
   ]
  },
  {
   "cell_type": "code",
   "execution_count": 22,
   "metadata": {
    "collapsed": true
   },
   "outputs": [],
   "source": [
    "# create tech ratio column\n",
    "zipdata['tech_ratio'] = zipdata.apply(lambda row: get_tech_ratio(row['ZipCode']), axis=1)"
   ]
  },
  {
   "cell_type": "code",
   "execution_count": 64,
   "metadata": {
    "collapsed": false
   },
   "outputs": [
    {
     "data": {
      "text/html": [
       "<div>\n",
       "<table border=\"1\" class=\"dataframe\">\n",
       "  <thead>\n",
       "    <tr style=\"text-align: right;\">\n",
       "      <th></th>\n",
       "      <th>Unnamed: 0</th>\n",
       "      <th>ZipCode</th>\n",
       "      <th>GivingRatio</th>\n",
       "      <th>45_64</th>\n",
       "      <th>65_Plus</th>\n",
       "      <th>TotalContributions</th>\n",
       "      <th>TotalAGI</th>\n",
       "      <th>MedianContribution</th>\n",
       "      <th>MedianAGI</th>\n",
       "      <th>Population</th>\n",
       "      <th>Under18</th>\n",
       "      <th>18_24</th>\n",
       "      <th>25_44</th>\n",
       "      <th>tech_ratio</th>\n",
       "    </tr>\n",
       "  </thead>\n",
       "  <tbody>\n",
       "    <tr>\n",
       "      <th>0</th>\n",
       "      <td>0</td>\n",
       "      <td>10026</td>\n",
       "      <td>2.22</td>\n",
       "      <td>23.6</td>\n",
       "      <td>8.2</td>\n",
       "      <td>14253000</td>\n",
       "      <td>643001000</td>\n",
       "      <td>2791</td>\n",
       "      <td>80630</td>\n",
       "      <td>36797</td>\n",
       "      <td>21.5</td>\n",
       "      <td>11.6</td>\n",
       "      <td>35.1</td>\n",
       "      <td>0.099352</td>\n",
       "    </tr>\n",
       "  </tbody>\n",
       "</table>\n",
       "</div>"
      ],
      "text/plain": [
       "   Unnamed: 0  ZipCode  GivingRatio  45_64  65_Plus  TotalContributions  \\\n",
       "0           0    10026         2.22   23.6      8.2            14253000   \n",
       "\n",
       "    TotalAGI  MedianContribution  MedianAGI  Population  Under18  18_24  \\\n",
       "0  643001000                2791      80630       36797     21.5   11.6   \n",
       "\n",
       "   25_44  tech_ratio  \n",
       "0   35.1    0.099352  "
      ]
     },
     "execution_count": 64,
     "metadata": {},
     "output_type": "execute_result"
    }
   ],
   "source": [
    "zipdata.head(1)"
   ]
  },
  {
   "cell_type": "code",
   "execution_count": 65,
   "metadata": {
    "collapsed": false
   },
   "outputs": [
    {
     "data": {
      "text/plain": [
       "510"
      ]
     },
     "execution_count": 65,
     "metadata": {},
     "output_type": "execute_result"
    }
   ],
   "source": [
    "bk_man = pd.read_csv(\"bk_manhattan2.csv\")"
   ]
  },
  {
   "cell_type": "code",
   "execution_count": 87,
   "metadata": {
    "collapsed": false
   },
   "outputs": [
    {
     "data": {
      "text/plain": [
       "['Unnamed: 0',\n",
       " 'Unnamed: 0.1',\n",
       " 'UNIT',\n",
       " 'C/A',\n",
       " 'LOCATION',\n",
       " 'NUM',\n",
       " 'LINE',\n",
       " 'LAT',\n",
       " 'LONG',\n",
       " 'geo_tuple',\n",
       " 'geo_address',\n",
       " 'ZipCode',\n",
       " 'GivingRatio',\n",
       " '45_64',\n",
       " '65_Plus',\n",
       " 'TotalContributions',\n",
       " 'TotalAGI',\n",
       " 'MedianContribution',\n",
       " 'MedianAGI',\n",
       " 'Population',\n",
       " 'Under18',\n",
       " '18_24',\n",
       " '25_44',\n",
       " 'index',\n",
       " 'url',\n",
       " 'MedianAGI_f',\n",
       " 'MedianCont_f',\n",
       " 'AGI_Scaled',\n",
       " 'Contributions_Scaled',\n",
       " 'TotalCont_Scaled',\n",
       " 'TotalAGI_Scaled',\n",
       " 'MedianCont_Scaled',\n",
       " 'MedianAGI_Scaled',\n",
       " 'Population_Scaled']"
      ]
     },
     "execution_count": 87,
     "metadata": {},
     "output_type": "execute_result"
    }
   ],
   "source": [
    "list(bk_man.columns.values)"
   ]
  },
  {
   "cell_type": "code",
   "execution_count": null,
   "metadata": {
    "collapsed": true
   },
   "outputs": [],
   "source": []
  },
  {
   "cell_type": "code",
   "execution_count": 32,
   "metadata": {
    "collapsed": false
   },
   "outputs": [],
   "source": [
    "# only relevant columns\n",
    "stations_geo = bk_man[['UNIT','C/A','LOCATION','NUM','LINE','LAT','LONG',\n",
    "                'geo_tuple','geo_address','ZipCode']]\n"
   ]
  },
  {
   "cell_type": "code",
   "execution_count": 37,
   "metadata": {
    "collapsed": false
   },
   "outputs": [
    {
     "data": {
      "text/html": [
       "<div>\n",
       "<table border=\"1\" class=\"dataframe\">\n",
       "  <thead>\n",
       "    <tr style=\"text-align: right;\">\n",
       "      <th></th>\n",
       "      <th>UNIT</th>\n",
       "      <th>C/A</th>\n",
       "      <th>LOCATION</th>\n",
       "      <th>NUM</th>\n",
       "      <th>LINE</th>\n",
       "      <th>LAT</th>\n",
       "      <th>LONG</th>\n",
       "      <th>geo_tuple</th>\n",
       "      <th>geo_address</th>\n",
       "      <th>ZipCode</th>\n",
       "    </tr>\n",
       "  </thead>\n",
       "  <tbody>\n",
       "    <tr>\n",
       "      <th>0</th>\n",
       "      <td>R216</td>\n",
       "      <td>C027</td>\n",
       "      <td>BAY RIDGE-95 ST</td>\n",
       "      <td>R</td>\n",
       "      <td>BMT</td>\n",
       "      <td>40.616624</td>\n",
       "      <td>-74.030964</td>\n",
       "      <td>(40.616624000000002, -74.030963999999997)</td>\n",
       "      <td>9404, 4th Avenue, Fort Hamilton, Kings County,...</td>\n",
       "      <td>11209</td>\n",
       "    </tr>\n",
       "  </tbody>\n",
       "</table>\n",
       "</div>"
      ],
      "text/plain": [
       "   UNIT   C/A         LOCATION NUM LINE        LAT       LONG  \\\n",
       "0  R216  C027  BAY RIDGE-95 ST   R  BMT  40.616624 -74.030964   \n",
       "\n",
       "                                   geo_tuple  \\\n",
       "0  (40.616624000000002, -74.030963999999997)   \n",
       "\n",
       "                                         geo_address  ZipCode  \n",
       "0  9404, 4th Avenue, Fort Hamilton, Kings County,...    11209  "
      ]
     },
     "execution_count": 37,
     "metadata": {},
     "output_type": "execute_result"
    }
   ],
   "source": [
    "stations_geo.head(1)"
   ]
  },
  {
   "cell_type": "code",
   "execution_count": 35,
   "metadata": {
    "collapsed": true
   },
   "outputs": [],
   "source": [
    "df_mer2 = pd.merge(left=stations_geo, right=zipdata, how='left', left_on='ZipCode', right_on='ZipCode')"
   ]
  },
  {
   "cell_type": "code",
   "execution_count": 36,
   "metadata": {
    "collapsed": false
   },
   "outputs": [
    {
     "data": {
      "text/html": [
       "<div>\n",
       "<table border=\"1\" class=\"dataframe\">\n",
       "  <thead>\n",
       "    <tr style=\"text-align: right;\">\n",
       "      <th></th>\n",
       "      <th>UNIT</th>\n",
       "      <th>C/A</th>\n",
       "      <th>LOCATION</th>\n",
       "      <th>NUM</th>\n",
       "      <th>LINE</th>\n",
       "      <th>LAT</th>\n",
       "      <th>LONG</th>\n",
       "      <th>geo_tuple</th>\n",
       "      <th>geo_address</th>\n",
       "      <th>ZipCode</th>\n",
       "      <th>...</th>\n",
       "      <th>65_Plus</th>\n",
       "      <th>TotalContributions</th>\n",
       "      <th>TotalAGI</th>\n",
       "      <th>MedianContribution</th>\n",
       "      <th>MedianAGI</th>\n",
       "      <th>Population</th>\n",
       "      <th>Under18</th>\n",
       "      <th>18_24</th>\n",
       "      <th>25_44</th>\n",
       "      <th>tech_ratio</th>\n",
       "    </tr>\n",
       "  </thead>\n",
       "  <tbody>\n",
       "    <tr>\n",
       "      <th>0</th>\n",
       "      <td>R216</td>\n",
       "      <td>C027</td>\n",
       "      <td>BAY RIDGE-95 ST</td>\n",
       "      <td>R</td>\n",
       "      <td>BMT</td>\n",
       "      <td>40.616624</td>\n",
       "      <td>-74.030964</td>\n",
       "      <td>(40.616624000000002, -74.030963999999997)</td>\n",
       "      <td>9404, 4th Avenue, Fort Hamilton, Kings County,...</td>\n",
       "      <td>11209</td>\n",
       "      <td>...</td>\n",
       "      <td>14.3</td>\n",
       "      <td>31554000</td>\n",
       "      <td>1553612000</td>\n",
       "      <td>2363</td>\n",
       "      <td>86557</td>\n",
       "      <td>72434</td>\n",
       "      <td>20</td>\n",
       "      <td>7.5</td>\n",
       "      <td>32.5</td>\n",
       "      <td>0.141104</td>\n",
       "    </tr>\n",
       "  </tbody>\n",
       "</table>\n",
       "<p>1 rows × 23 columns</p>\n",
       "</div>"
      ],
      "text/plain": [
       "   UNIT   C/A         LOCATION NUM LINE        LAT       LONG  \\\n",
       "0  R216  C027  BAY RIDGE-95 ST   R  BMT  40.616624 -74.030964   \n",
       "\n",
       "                                   geo_tuple  \\\n",
       "0  (40.616624000000002, -74.030963999999997)   \n",
       "\n",
       "                                         geo_address  ZipCode     ...      \\\n",
       "0  9404, 4th Avenue, Fort Hamilton, Kings County,...    11209     ...       \n",
       "\n",
       "   65_Plus  TotalContributions    TotalAGI  MedianContribution  MedianAGI  \\\n",
       "0     14.3            31554000  1553612000                2363      86557   \n",
       "\n",
       "   Population  Under18  18_24  25_44  tech_ratio  \n",
       "0       72434       20    7.5   32.5    0.141104  \n",
       "\n",
       "[1 rows x 23 columns]"
      ]
     },
     "execution_count": 36,
     "metadata": {},
     "output_type": "execute_result"
    }
   ],
   "source": [
    "df_mer2.head(1)"
   ]
  },
  {
   "cell_type": "code",
   "execution_count": 66,
   "metadata": {
    "collapsed": false
   },
   "outputs": [],
   "source": [
    "# concat location and num\n",
    "df_mer2['LOCNUM'] = df_mer2[['LOCATION', 'NUM']].apply(lambda x: ''.join(x), axis=1)\n"
   ]
  },
  {
   "cell_type": "code",
   "execution_count": null,
   "metadata": {
    "collapsed": true
   },
   "outputs": [],
   "source": [
    "#df_fin = bk_man[['UNIT','C/A','LOCATION','NUM','LINE','LAT','LONG',\n",
    "#                'geo_tuple','geo_address','ZipCode','GivingRatio',\n",
    "#                'TotalContributions','TotalAGI','MedianContribution',\n",
    "#                'MedianAGI','Population','Under18','18_24','25_44',\n",
    "#                '45_64','65_Plus']]"
   ]
  },
  {
   "cell_type": "code",
   "execution_count": 82,
   "metadata": {
    "collapsed": true
   },
   "outputs": [],
   "source": [
    "entry_totals = pd.read_csv(\"dan_station_weekly2.csv\")\n",
    "#entry_totals = pd.read_csv(\"weekly_sum_totals.csv\")"
   ]
  },
  {
   "cell_type": "code",
   "execution_count": 83,
   "metadata": {
    "collapsed": false
   },
   "outputs": [],
   "source": [
    "entry_totals['LOCNUM'] = entry_totals[['STATION', 'LINENAME']].apply(lambda x: ''.join(x), axis=1)"
   ]
  },
  {
   "cell_type": "code",
   "execution_count": 84,
   "metadata": {
    "collapsed": false
   },
   "outputs": [
    {
     "data": {
      "text/plain": [
       "3288"
      ]
     },
     "execution_count": 84,
     "metadata": {},
     "output_type": "execute_result"
    }
   ],
   "source": [
    "entry_totals.head(1)\n",
    "len(entry_totals)"
   ]
  },
  {
   "cell_type": "code",
   "execution_count": 71,
   "metadata": {
    "collapsed": false
   },
   "outputs": [],
   "source": [
    "df_mer3 = pd.merge(left=df_mer2, right=entry_totals, how='left', left_on='LOCATION', right_on='STATION')"
   ]
  },
  {
   "cell_type": "code",
   "execution_count": 73,
   "metadata": {
    "collapsed": false
   },
   "outputs": [
    {
     "data": {
      "text/plain": [
       "510"
      ]
     },
     "execution_count": 73,
     "metadata": {},
     "output_type": "execute_result"
    }
   ],
   "source": [
    "df_mer3.head(1)"
   ]
  },
  {
   "cell_type": "code",
   "execution_count": 74,
   "metadata": {
    "collapsed": true
   },
   "outputs": [],
   "source": [
    "import numpy as np\n",
    "\n",
    "# normalize median contribution, entries, and median income\n",
    "df_mer3['Med_Cont_Nor'] = float_convert(df_mer3['MedianContribution'][pd.notnull(df_mer3['MedianContribution'])])\n",
    "df_mer3['ENTRIES_Nor'] = float_convert(df_mer3['ENTRIES'][pd.notnull(df_mer3['ENTRIES'])])\n",
    "df_mer3['Median_AGI_Nor'] = float_convert(df_mer3['MedianAGI'][pd.notnull(df_mer3['MedianAGI'])])\n",
    "\n",
    "# median contribution *** % of population age 25-44 \n",
    "# *** average daily ridership *** tech ratio\n",
    "df_mer3['VALUE'] = (df_mer3['tech_ratio'] * df_mer3['Med_Cont_Nor'] *\n",
    "                    (df_mer3['25_44'] / 100) * df_mer3['ENTRIES_Nor'])"
   ]
  },
  {
   "cell_type": "code",
   "execution_count": 75,
   "metadata": {
    "collapsed": true
   },
   "outputs": [],
   "source": [
    "# top 25, by tech_ratio\n",
    "fdf = df_mer3"
   ]
  },
  {
   "cell_type": "code",
   "execution_count": 76,
   "metadata": {
    "collapsed": false
   },
   "outputs": [
    {
     "data": {
      "text/plain": [
       "510"
      ]
     },
     "execution_count": 76,
     "metadata": {},
     "output_type": "execute_result"
    }
   ],
   "source": [
    "len(fdf)"
   ]
  },
  {
   "cell_type": "code",
   "execution_count": 77,
   "metadata": {
    "collapsed": false
   },
   "outputs": [
    {
     "data": {
      "text/html": [
       "<div>\n",
       "<table border=\"1\" class=\"dataframe\">\n",
       "  <thead>\n",
       "    <tr style=\"text-align: right;\">\n",
       "      <th></th>\n",
       "      <th>UNIT</th>\n",
       "      <th>C/A</th>\n",
       "      <th>LOCATION</th>\n",
       "      <th>NUM</th>\n",
       "      <th>LINE</th>\n",
       "      <th>LAT</th>\n",
       "      <th>LONG</th>\n",
       "      <th>geo_tuple</th>\n",
       "      <th>geo_address</th>\n",
       "      <th>ZipCode</th>\n",
       "      <th>...</th>\n",
       "      <th>25_44</th>\n",
       "      <th>tech_ratio</th>\n",
       "      <th>LOCNUM</th>\n",
       "      <th>STATION</th>\n",
       "      <th>Unnamed: 0_y</th>\n",
       "      <th>ENTRIES</th>\n",
       "      <th>Med_Cont_Nor</th>\n",
       "      <th>ENTRIES_Nor</th>\n",
       "      <th>Median_AGI_Nor</th>\n",
       "      <th>VALUE</th>\n",
       "    </tr>\n",
       "  </thead>\n",
       "  <tbody>\n",
       "    <tr>\n",
       "      <th>396</th>\n",
       "      <td>R334</td>\n",
       "      <td>N035</td>\n",
       "      <td>CATHEDRL-110 ST</td>\n",
       "      <td>BC</td>\n",
       "      <td>IND</td>\n",
       "      <td>40.800637</td>\n",
       "      <td>-73.958201</td>\n",
       "      <td>(40.800637000000002, -73.958201000000003)</td>\n",
       "      <td>Frederick Douglass Circle, Park West Village, ...</td>\n",
       "      <td>10026</td>\n",
       "      <td>...</td>\n",
       "      <td>35.1</td>\n",
       "      <td>0.099352</td>\n",
       "      <td>CATHEDRL-110 STBC</td>\n",
       "      <td>NaN</td>\n",
       "      <td>NaN</td>\n",
       "      <td>NaN</td>\n",
       "      <td>2791</td>\n",
       "      <td>NaN</td>\n",
       "      <td>80630</td>\n",
       "      <td>NaN</td>\n",
       "    </tr>\n",
       "    <tr>\n",
       "      <th>397</th>\n",
       "      <td>R334</td>\n",
       "      <td>N034</td>\n",
       "      <td>CATHEDRL-110 ST</td>\n",
       "      <td>BC</td>\n",
       "      <td>IND</td>\n",
       "      <td>40.800637</td>\n",
       "      <td>-73.958201</td>\n",
       "      <td>(40.800637000000002, -73.958201000000003)</td>\n",
       "      <td>Frederick Douglass Circle, Park West Village, ...</td>\n",
       "      <td>10026</td>\n",
       "      <td>...</td>\n",
       "      <td>35.1</td>\n",
       "      <td>0.099352</td>\n",
       "      <td>CATHEDRL-110 STBC</td>\n",
       "      <td>NaN</td>\n",
       "      <td>NaN</td>\n",
       "      <td>NaN</td>\n",
       "      <td>2791</td>\n",
       "      <td>NaN</td>\n",
       "      <td>80630</td>\n",
       "      <td>NaN</td>\n",
       "    </tr>\n",
       "  </tbody>\n",
       "</table>\n",
       "<p>2 rows × 31 columns</p>\n",
       "</div>"
      ],
      "text/plain": [
       "     UNIT   C/A         LOCATION NUM LINE        LAT       LONG  \\\n",
       "396  R334  N035  CATHEDRL-110 ST  BC  IND  40.800637 -73.958201   \n",
       "397  R334  N034  CATHEDRL-110 ST  BC  IND  40.800637 -73.958201   \n",
       "\n",
       "                                     geo_tuple  \\\n",
       "396  (40.800637000000002, -73.958201000000003)   \n",
       "397  (40.800637000000002, -73.958201000000003)   \n",
       "\n",
       "                                           geo_address  ZipCode  ...    25_44  \\\n",
       "396  Frederick Douglass Circle, Park West Village, ...    10026  ...     35.1   \n",
       "397  Frederick Douglass Circle, Park West Village, ...    10026  ...     35.1   \n",
       "\n",
       "     tech_ratio             LOCNUM  STATION  Unnamed: 0_y  ENTRIES  \\\n",
       "396    0.099352  CATHEDRL-110 STBC      NaN           NaN      NaN   \n",
       "397    0.099352  CATHEDRL-110 STBC      NaN           NaN      NaN   \n",
       "\n",
       "     Med_Cont_Nor  ENTRIES_Nor  Median_AGI_Nor  VALUE  \n",
       "396          2791          NaN           80630    NaN  \n",
       "397          2791          NaN           80630    NaN  \n",
       "\n",
       "[2 rows x 31 columns]"
      ]
     },
     "execution_count": 77,
     "metadata": {},
     "output_type": "execute_result"
    }
   ],
   "source": [
    "fdf.loc[fdf['UNIT'] == 'R334']"
   ]
  },
  {
   "cell_type": "code",
   "execution_count": null,
   "metadata": {
    "collapsed": true
   },
   "outputs": [],
   "source": []
  }
 ],
 "metadata": {
  "kernelspec": {
   "display_name": "Python 2",
   "language": "python",
   "name": "python2"
  },
  "language_info": {
   "codemirror_mode": {
    "name": "ipython",
    "version": 2
   },
   "file_extension": ".py",
   "mimetype": "text/x-python",
   "name": "python",
   "nbconvert_exporter": "python",
   "pygments_lexer": "ipython2",
   "version": "2.7.11"
  }
 },
 "nbformat": 4,
 "nbformat_minor": 0
}
